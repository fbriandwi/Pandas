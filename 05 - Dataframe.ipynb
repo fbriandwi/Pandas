{
 "cells": [
  {
   "cell_type": "code",
   "execution_count": 7,
   "id": "04a3c168",
   "metadata": {},
   "outputs": [],
   "source": [
    "import numpy as np\n",
    "import pandas as pd"
   ]
  },
  {
   "cell_type": "code",
   "execution_count": null,
   "id": "0a31e4b1",
   "metadata": {},
   "outputs": [],
   "source": [
    "# dataku = pd.DataFrame() urutannya data apa, indeks apa"
   ]
  },
  {
   "cell_type": "code",
   "execution_count": 3,
   "id": "3a249fdb",
   "metadata": {},
   "outputs": [],
   "source": [
    "# dataku = pd.DataFrame(np.random)"
   ]
  },
  {
   "cell_type": "code",
   "execution_count": 4,
   "id": "72c9b585",
   "metadata": {},
   "outputs": [],
   "source": [
    "np.random.seed(100)"
   ]
  },
  {
   "cell_type": "code",
   "execution_count": 6,
   "id": "cb27f193",
   "metadata": {},
   "outputs": [],
   "source": [
    "dataku = pd.DataFrame(np.random.randn(3,5), ['A','B','C'],['satu','dua','tiga','empat','lima'])"
   ]
  },
  {
   "cell_type": "code",
   "execution_count": 8,
   "id": "dbacdb8d",
   "metadata": {},
   "outputs": [
    {
     "data": {
      "text/html": [
       "<div>\n",
       "<style scoped>\n",
       "    .dataframe tbody tr th:only-of-type {\n",
       "        vertical-align: middle;\n",
       "    }\n",
       "\n",
       "    .dataframe tbody tr th {\n",
       "        vertical-align: top;\n",
       "    }\n",
       "\n",
       "    .dataframe thead th {\n",
       "        text-align: right;\n",
       "    }\n",
       "</style>\n",
       "<table border=\"1\" class=\"dataframe\">\n",
       "  <thead>\n",
       "    <tr style=\"text-align: right;\">\n",
       "      <th></th>\n",
       "      <th>satu</th>\n",
       "      <th>dua</th>\n",
       "      <th>tiga</th>\n",
       "      <th>empat</th>\n",
       "      <th>lima</th>\n",
       "    </tr>\n",
       "  </thead>\n",
       "  <tbody>\n",
       "    <tr>\n",
       "      <th>A</th>\n",
       "      <td>-1.749765</td>\n",
       "      <td>0.342680</td>\n",
       "      <td>1.153036</td>\n",
       "      <td>-0.252436</td>\n",
       "      <td>0.981321</td>\n",
       "    </tr>\n",
       "    <tr>\n",
       "      <th>B</th>\n",
       "      <td>0.514219</td>\n",
       "      <td>0.221180</td>\n",
       "      <td>-1.070043</td>\n",
       "      <td>-0.189496</td>\n",
       "      <td>0.255001</td>\n",
       "    </tr>\n",
       "    <tr>\n",
       "      <th>C</th>\n",
       "      <td>-0.458027</td>\n",
       "      <td>0.435163</td>\n",
       "      <td>-0.583595</td>\n",
       "      <td>0.816847</td>\n",
       "      <td>0.672721</td>\n",
       "    </tr>\n",
       "  </tbody>\n",
       "</table>\n",
       "</div>"
      ],
      "text/plain": [
       "       satu       dua      tiga     empat      lima\n",
       "A -1.749765  0.342680  1.153036 -0.252436  0.981321\n",
       "B  0.514219  0.221180 -1.070043 -0.189496  0.255001\n",
       "C -0.458027  0.435163 -0.583595  0.816847  0.672721"
      ]
     },
     "execution_count": 8,
     "metadata": {},
     "output_type": "execute_result"
    }
   ],
   "source": [
    "dataku"
   ]
  },
  {
   "cell_type": "code",
   "execution_count": 11,
   "id": "5f82d5f8",
   "metadata": {},
   "outputs": [
    {
     "data": {
      "text/plain": [
       "A    0.342680\n",
       "B    0.221180\n",
       "C    0.435163\n",
       "Name: dua, dtype: float64"
      ]
     },
     "execution_count": 11,
     "metadata": {},
     "output_type": "execute_result"
    }
   ],
   "source": [
    "dataku['dua']"
   ]
  },
  {
   "cell_type": "code",
   "execution_count": 12,
   "id": "524cc540",
   "metadata": {},
   "outputs": [
    {
     "data": {
      "text/plain": [
       "pandas.core.series.Series"
      ]
     },
     "execution_count": 12,
     "metadata": {},
     "output_type": "execute_result"
    }
   ],
   "source": [
    "type(dataku['dua'])"
   ]
  },
  {
   "cell_type": "code",
   "execution_count": 13,
   "id": "32cbc029",
   "metadata": {},
   "outputs": [],
   "source": [
    "#iloc Loc"
   ]
  },
  {
   "cell_type": "code",
   "execution_count": 14,
   "id": "7383a647",
   "metadata": {},
   "outputs": [],
   "source": [
    "dataku['baru'] = dataku['empat'] + dataku['lima']"
   ]
  },
  {
   "cell_type": "code",
   "execution_count": 15,
   "id": "faac21fc",
   "metadata": {},
   "outputs": [
    {
     "data": {
      "text/html": [
       "<div>\n",
       "<style scoped>\n",
       "    .dataframe tbody tr th:only-of-type {\n",
       "        vertical-align: middle;\n",
       "    }\n",
       "\n",
       "    .dataframe tbody tr th {\n",
       "        vertical-align: top;\n",
       "    }\n",
       "\n",
       "    .dataframe thead th {\n",
       "        text-align: right;\n",
       "    }\n",
       "</style>\n",
       "<table border=\"1\" class=\"dataframe\">\n",
       "  <thead>\n",
       "    <tr style=\"text-align: right;\">\n",
       "      <th></th>\n",
       "      <th>satu</th>\n",
       "      <th>dua</th>\n",
       "      <th>tiga</th>\n",
       "      <th>empat</th>\n",
       "      <th>lima</th>\n",
       "      <th>baru</th>\n",
       "    </tr>\n",
       "  </thead>\n",
       "  <tbody>\n",
       "    <tr>\n",
       "      <th>A</th>\n",
       "      <td>-1.749765</td>\n",
       "      <td>0.342680</td>\n",
       "      <td>1.153036</td>\n",
       "      <td>-0.252436</td>\n",
       "      <td>0.981321</td>\n",
       "      <td>0.728885</td>\n",
       "    </tr>\n",
       "    <tr>\n",
       "      <th>B</th>\n",
       "      <td>0.514219</td>\n",
       "      <td>0.221180</td>\n",
       "      <td>-1.070043</td>\n",
       "      <td>-0.189496</td>\n",
       "      <td>0.255001</td>\n",
       "      <td>0.065506</td>\n",
       "    </tr>\n",
       "    <tr>\n",
       "      <th>C</th>\n",
       "      <td>-0.458027</td>\n",
       "      <td>0.435163</td>\n",
       "      <td>-0.583595</td>\n",
       "      <td>0.816847</td>\n",
       "      <td>0.672721</td>\n",
       "      <td>1.489568</td>\n",
       "    </tr>\n",
       "  </tbody>\n",
       "</table>\n",
       "</div>"
      ],
      "text/plain": [
       "       satu       dua      tiga     empat      lima      baru\n",
       "A -1.749765  0.342680  1.153036 -0.252436  0.981321  0.728885\n",
       "B  0.514219  0.221180 -1.070043 -0.189496  0.255001  0.065506\n",
       "C -0.458027  0.435163 -0.583595  0.816847  0.672721  1.489568"
      ]
     },
     "execution_count": 15,
     "metadata": {},
     "output_type": "execute_result"
    }
   ],
   "source": [
    "dataku"
   ]
  },
  {
   "cell_type": "code",
   "execution_count": 16,
   "id": "4e4c92d2",
   "metadata": {},
   "outputs": [],
   "source": [
    "# hapus kolom"
   ]
  },
  {
   "cell_type": "code",
   "execution_count": 31,
   "id": "007b26f8",
   "metadata": {
    "scrolled": false
   },
   "outputs": [
    {
     "data": {
      "text/html": [
       "<div>\n",
       "<style scoped>\n",
       "    .dataframe tbody tr th:only-of-type {\n",
       "        vertical-align: middle;\n",
       "    }\n",
       "\n",
       "    .dataframe tbody tr th {\n",
       "        vertical-align: top;\n",
       "    }\n",
       "\n",
       "    .dataframe thead th {\n",
       "        text-align: right;\n",
       "    }\n",
       "</style>\n",
       "<table border=\"1\" class=\"dataframe\">\n",
       "  <thead>\n",
       "    <tr style=\"text-align: right;\">\n",
       "      <th></th>\n",
       "      <th>satu</th>\n",
       "      <th>dua</th>\n",
       "      <th>empat</th>\n",
       "      <th>lima</th>\n",
       "      <th>baru</th>\n",
       "    </tr>\n",
       "  </thead>\n",
       "  <tbody>\n",
       "    <tr>\n",
       "      <th>A</th>\n",
       "      <td>-1.749765</td>\n",
       "      <td>0.342680</td>\n",
       "      <td>-0.252436</td>\n",
       "      <td>0.981321</td>\n",
       "      <td>0.728885</td>\n",
       "    </tr>\n",
       "    <tr>\n",
       "      <th>B</th>\n",
       "      <td>0.514219</td>\n",
       "      <td>0.221180</td>\n",
       "      <td>-0.189496</td>\n",
       "      <td>0.255001</td>\n",
       "      <td>0.065506</td>\n",
       "    </tr>\n",
       "    <tr>\n",
       "      <th>C</th>\n",
       "      <td>-0.458027</td>\n",
       "      <td>0.435163</td>\n",
       "      <td>0.816847</td>\n",
       "      <td>0.672721</td>\n",
       "      <td>1.489568</td>\n",
       "    </tr>\n",
       "  </tbody>\n",
       "</table>\n",
       "</div>"
      ],
      "text/plain": [
       "       satu       dua     empat      lima      baru\n",
       "A -1.749765  0.342680 -0.252436  0.981321  0.728885\n",
       "B  0.514219  0.221180 -0.189496  0.255001  0.065506\n",
       "C -0.458027  0.435163  0.816847  0.672721  1.489568"
      ]
     },
     "execution_count": 31,
     "metadata": {},
     "output_type": "execute_result"
    }
   ],
   "source": [
    "dataku = dataku.drop('tiga', axis=1)"
   ]
  },
  {
   "cell_type": "code",
   "execution_count": 28,
   "id": "08010a11",
   "metadata": {},
   "outputs": [
    {
     "data": {
      "text/html": [
       "<div>\n",
       "<style scoped>\n",
       "    .dataframe tbody tr th:only-of-type {\n",
       "        vertical-align: middle;\n",
       "    }\n",
       "\n",
       "    .dataframe tbody tr th {\n",
       "        vertical-align: top;\n",
       "    }\n",
       "\n",
       "    .dataframe thead th {\n",
       "        text-align: right;\n",
       "    }\n",
       "</style>\n",
       "<table border=\"1\" class=\"dataframe\">\n",
       "  <thead>\n",
       "    <tr style=\"text-align: right;\">\n",
       "      <th></th>\n",
       "      <th>satu</th>\n",
       "      <th>dua</th>\n",
       "      <th>empat</th>\n",
       "      <th>lima</th>\n",
       "      <th>baru</th>\n",
       "    </tr>\n",
       "  </thead>\n",
       "  <tbody>\n",
       "    <tr>\n",
       "      <th>A</th>\n",
       "      <td>-1.749765</td>\n",
       "      <td>0.342680</td>\n",
       "      <td>-0.252436</td>\n",
       "      <td>0.981321</td>\n",
       "      <td>0.728885</td>\n",
       "    </tr>\n",
       "    <tr>\n",
       "      <th>B</th>\n",
       "      <td>0.514219</td>\n",
       "      <td>0.221180</td>\n",
       "      <td>-0.189496</td>\n",
       "      <td>0.255001</td>\n",
       "      <td>0.065506</td>\n",
       "    </tr>\n",
       "    <tr>\n",
       "      <th>C</th>\n",
       "      <td>-0.458027</td>\n",
       "      <td>0.435163</td>\n",
       "      <td>0.816847</td>\n",
       "      <td>0.672721</td>\n",
       "      <td>1.489568</td>\n",
       "    </tr>\n",
       "  </tbody>\n",
       "</table>\n",
       "</div>"
      ],
      "text/plain": [
       "       satu       dua     empat      lima      baru\n",
       "A -1.749765  0.342680 -0.252436  0.981321  0.728885\n",
       "B  0.514219  0.221180 -0.189496  0.255001  0.065506\n",
       "C -0.458027  0.435163  0.816847  0.672721  1.489568"
      ]
     },
     "execution_count": 28,
     "metadata": {},
     "output_type": "execute_result"
    }
   ],
   "source": [
    "dataku"
   ]
  },
  {
   "cell_type": "code",
   "execution_count": 32,
   "id": "10deb973",
   "metadata": {},
   "outputs": [],
   "source": [
    "dataku.drop('baru', axis=1, inplace=True)"
   ]
  },
  {
   "cell_type": "code",
   "execution_count": 33,
   "id": "ae214354",
   "metadata": {},
   "outputs": [
    {
     "data": {
      "text/html": [
       "<div>\n",
       "<style scoped>\n",
       "    .dataframe tbody tr th:only-of-type {\n",
       "        vertical-align: middle;\n",
       "    }\n",
       "\n",
       "    .dataframe tbody tr th {\n",
       "        vertical-align: top;\n",
       "    }\n",
       "\n",
       "    .dataframe thead th {\n",
       "        text-align: right;\n",
       "    }\n",
       "</style>\n",
       "<table border=\"1\" class=\"dataframe\">\n",
       "  <thead>\n",
       "    <tr style=\"text-align: right;\">\n",
       "      <th></th>\n",
       "      <th>satu</th>\n",
       "      <th>dua</th>\n",
       "      <th>empat</th>\n",
       "      <th>lima</th>\n",
       "    </tr>\n",
       "  </thead>\n",
       "  <tbody>\n",
       "    <tr>\n",
       "      <th>A</th>\n",
       "      <td>-1.749765</td>\n",
       "      <td>0.342680</td>\n",
       "      <td>-0.252436</td>\n",
       "      <td>0.981321</td>\n",
       "    </tr>\n",
       "    <tr>\n",
       "      <th>B</th>\n",
       "      <td>0.514219</td>\n",
       "      <td>0.221180</td>\n",
       "      <td>-0.189496</td>\n",
       "      <td>0.255001</td>\n",
       "    </tr>\n",
       "    <tr>\n",
       "      <th>C</th>\n",
       "      <td>-0.458027</td>\n",
       "      <td>0.435163</td>\n",
       "      <td>0.816847</td>\n",
       "      <td>0.672721</td>\n",
       "    </tr>\n",
       "  </tbody>\n",
       "</table>\n",
       "</div>"
      ],
      "text/plain": [
       "       satu       dua     empat      lima\n",
       "A -1.749765  0.342680 -0.252436  0.981321\n",
       "B  0.514219  0.221180 -0.189496  0.255001\n",
       "C -0.458027  0.435163  0.816847  0.672721"
      ]
     },
     "execution_count": 33,
     "metadata": {},
     "output_type": "execute_result"
    }
   ],
   "source": [
    "dataku"
   ]
  },
  {
   "cell_type": "code",
   "execution_count": 34,
   "id": "59a011ad",
   "metadata": {},
   "outputs": [],
   "source": [
    "dataku.drop('B', axis=0, inplace=True)"
   ]
  },
  {
   "cell_type": "code",
   "execution_count": 35,
   "id": "6b91d7e4",
   "metadata": {},
   "outputs": [
    {
     "data": {
      "text/html": [
       "<div>\n",
       "<style scoped>\n",
       "    .dataframe tbody tr th:only-of-type {\n",
       "        vertical-align: middle;\n",
       "    }\n",
       "\n",
       "    .dataframe tbody tr th {\n",
       "        vertical-align: top;\n",
       "    }\n",
       "\n",
       "    .dataframe thead th {\n",
       "        text-align: right;\n",
       "    }\n",
       "</style>\n",
       "<table border=\"1\" class=\"dataframe\">\n",
       "  <thead>\n",
       "    <tr style=\"text-align: right;\">\n",
       "      <th></th>\n",
       "      <th>satu</th>\n",
       "      <th>dua</th>\n",
       "      <th>empat</th>\n",
       "      <th>lima</th>\n",
       "    </tr>\n",
       "  </thead>\n",
       "  <tbody>\n",
       "    <tr>\n",
       "      <th>A</th>\n",
       "      <td>-1.749765</td>\n",
       "      <td>0.342680</td>\n",
       "      <td>-0.252436</td>\n",
       "      <td>0.981321</td>\n",
       "    </tr>\n",
       "    <tr>\n",
       "      <th>C</th>\n",
       "      <td>-0.458027</td>\n",
       "      <td>0.435163</td>\n",
       "      <td>0.816847</td>\n",
       "      <td>0.672721</td>\n",
       "    </tr>\n",
       "  </tbody>\n",
       "</table>\n",
       "</div>"
      ],
      "text/plain": [
       "       satu       dua     empat      lima\n",
       "A -1.749765  0.342680 -0.252436  0.981321\n",
       "C -0.458027  0.435163  0.816847  0.672721"
      ]
     },
     "execution_count": 35,
     "metadata": {},
     "output_type": "execute_result"
    }
   ],
   "source": [
    "dataku"
   ]
  },
  {
   "cell_type": "code",
   "execution_count": 36,
   "id": "037411c4",
   "metadata": {},
   "outputs": [
    {
     "data": {
      "text/plain": [
       "(2, 4)"
      ]
     },
     "execution_count": 36,
     "metadata": {},
     "output_type": "execute_result"
    }
   ],
   "source": [
    "dataku.shape"
   ]
  },
  {
   "cell_type": "code",
   "execution_count": 37,
   "id": "fcd62bc7",
   "metadata": {},
   "outputs": [],
   "source": [
    "# proses komparasi"
   ]
  },
  {
   "cell_type": "code",
   "execution_count": 46,
   "id": "80254d06",
   "metadata": {},
   "outputs": [
    {
     "data": {
      "text/html": [
       "<div>\n",
       "<style scoped>\n",
       "    .dataframe tbody tr th:only-of-type {\n",
       "        vertical-align: middle;\n",
       "    }\n",
       "\n",
       "    .dataframe tbody tr th {\n",
       "        vertical-align: top;\n",
       "    }\n",
       "\n",
       "    .dataframe thead th {\n",
       "        text-align: right;\n",
       "    }\n",
       "</style>\n",
       "<table border=\"1\" class=\"dataframe\">\n",
       "  <thead>\n",
       "    <tr style=\"text-align: right;\">\n",
       "      <th></th>\n",
       "      <th>satu</th>\n",
       "      <th>dua</th>\n",
       "      <th>empat</th>\n",
       "      <th>lima</th>\n",
       "    </tr>\n",
       "  </thead>\n",
       "  <tbody>\n",
       "    <tr>\n",
       "      <th>A</th>\n",
       "      <td>True</td>\n",
       "      <td>False</td>\n",
       "      <td>True</td>\n",
       "      <td>False</td>\n",
       "    </tr>\n",
       "    <tr>\n",
       "      <th>C</th>\n",
       "      <td>True</td>\n",
       "      <td>False</td>\n",
       "      <td>False</td>\n",
       "      <td>False</td>\n",
       "    </tr>\n",
       "  </tbody>\n",
       "</table>\n",
       "</div>"
      ],
      "text/plain": [
       "   satu    dua  empat   lima\n",
       "A  True  False   True  False\n",
       "C  True  False  False  False"
      ]
     },
     "execution_count": 46,
     "metadata": {},
     "output_type": "execute_result"
    }
   ],
   "source": [
    "dataku < 0"
   ]
  },
  {
   "cell_type": "code",
   "execution_count": 47,
   "id": "bbac2e51",
   "metadata": {},
   "outputs": [
    {
     "data": {
      "text/html": [
       "<div>\n",
       "<style scoped>\n",
       "    .dataframe tbody tr th:only-of-type {\n",
       "        vertical-align: middle;\n",
       "    }\n",
       "\n",
       "    .dataframe tbody tr th {\n",
       "        vertical-align: top;\n",
       "    }\n",
       "\n",
       "    .dataframe thead th {\n",
       "        text-align: right;\n",
       "    }\n",
       "</style>\n",
       "<table border=\"1\" class=\"dataframe\">\n",
       "  <thead>\n",
       "    <tr style=\"text-align: right;\">\n",
       "      <th></th>\n",
       "      <th>satu</th>\n",
       "      <th>dua</th>\n",
       "      <th>empat</th>\n",
       "      <th>lima</th>\n",
       "    </tr>\n",
       "  </thead>\n",
       "  <tbody>\n",
       "    <tr>\n",
       "      <th>A</th>\n",
       "      <td>-1.749765</td>\n",
       "      <td>0.342680</td>\n",
       "      <td>-0.252436</td>\n",
       "      <td>0.981321</td>\n",
       "    </tr>\n",
       "    <tr>\n",
       "      <th>C</th>\n",
       "      <td>-0.458027</td>\n",
       "      <td>0.435163</td>\n",
       "      <td>0.816847</td>\n",
       "      <td>0.672721</td>\n",
       "    </tr>\n",
       "  </tbody>\n",
       "</table>\n",
       "</div>"
      ],
      "text/plain": [
       "       satu       dua     empat      lima\n",
       "A -1.749765  0.342680 -0.252436  0.981321\n",
       "C -0.458027  0.435163  0.816847  0.672721"
      ]
     },
     "execution_count": 47,
     "metadata": {},
     "output_type": "execute_result"
    }
   ],
   "source": [
    "dataku"
   ]
  },
  {
   "cell_type": "code",
   "execution_count": 48,
   "id": "1a029326",
   "metadata": {},
   "outputs": [],
   "source": [
    "dataku_bol = dataku < 0"
   ]
  },
  {
   "cell_type": "code",
   "execution_count": 49,
   "id": "b713878d",
   "metadata": {},
   "outputs": [
    {
     "data": {
      "text/html": [
       "<div>\n",
       "<style scoped>\n",
       "    .dataframe tbody tr th:only-of-type {\n",
       "        vertical-align: middle;\n",
       "    }\n",
       "\n",
       "    .dataframe tbody tr th {\n",
       "        vertical-align: top;\n",
       "    }\n",
       "\n",
       "    .dataframe thead th {\n",
       "        text-align: right;\n",
       "    }\n",
       "</style>\n",
       "<table border=\"1\" class=\"dataframe\">\n",
       "  <thead>\n",
       "    <tr style=\"text-align: right;\">\n",
       "      <th></th>\n",
       "      <th>satu</th>\n",
       "      <th>dua</th>\n",
       "      <th>empat</th>\n",
       "      <th>lima</th>\n",
       "    </tr>\n",
       "  </thead>\n",
       "  <tbody>\n",
       "    <tr>\n",
       "      <th>A</th>\n",
       "      <td>True</td>\n",
       "      <td>False</td>\n",
       "      <td>True</td>\n",
       "      <td>False</td>\n",
       "    </tr>\n",
       "    <tr>\n",
       "      <th>C</th>\n",
       "      <td>True</td>\n",
       "      <td>False</td>\n",
       "      <td>False</td>\n",
       "      <td>False</td>\n",
       "    </tr>\n",
       "  </tbody>\n",
       "</table>\n",
       "</div>"
      ],
      "text/plain": [
       "   satu    dua  empat   lima\n",
       "A  True  False   True  False\n",
       "C  True  False  False  False"
      ]
     },
     "execution_count": 49,
     "metadata": {},
     "output_type": "execute_result"
    }
   ],
   "source": [
    "dataku_bol"
   ]
  },
  {
   "cell_type": "code",
   "execution_count": 50,
   "id": "182deda9",
   "metadata": {},
   "outputs": [
    {
     "data": {
      "text/html": [
       "<div>\n",
       "<style scoped>\n",
       "    .dataframe tbody tr th:only-of-type {\n",
       "        vertical-align: middle;\n",
       "    }\n",
       "\n",
       "    .dataframe tbody tr th {\n",
       "        vertical-align: top;\n",
       "    }\n",
       "\n",
       "    .dataframe thead th {\n",
       "        text-align: right;\n",
       "    }\n",
       "</style>\n",
       "<table border=\"1\" class=\"dataframe\">\n",
       "  <thead>\n",
       "    <tr style=\"text-align: right;\">\n",
       "      <th></th>\n",
       "      <th>satu</th>\n",
       "      <th>dua</th>\n",
       "      <th>empat</th>\n",
       "      <th>lima</th>\n",
       "    </tr>\n",
       "  </thead>\n",
       "  <tbody>\n",
       "    <tr>\n",
       "      <th>A</th>\n",
       "      <td>-1.749765</td>\n",
       "      <td>NaN</td>\n",
       "      <td>-0.252436</td>\n",
       "      <td>NaN</td>\n",
       "    </tr>\n",
       "    <tr>\n",
       "      <th>C</th>\n",
       "      <td>-0.458027</td>\n",
       "      <td>NaN</td>\n",
       "      <td>NaN</td>\n",
       "      <td>NaN</td>\n",
       "    </tr>\n",
       "  </tbody>\n",
       "</table>\n",
       "</div>"
      ],
      "text/plain": [
       "       satu  dua     empat  lima\n",
       "A -1.749765  NaN -0.252436   NaN\n",
       "C -0.458027  NaN       NaN   NaN"
      ]
     },
     "execution_count": 50,
     "metadata": {},
     "output_type": "execute_result"
    }
   ],
   "source": [
    "dataku[dataku_bol]"
   ]
  },
  {
   "cell_type": "code",
   "execution_count": 51,
   "id": "1ef07882",
   "metadata": {},
   "outputs": [],
   "source": [
    "# yang ditunjukan cuman data < 0 yang lebih gx dlu"
   ]
  },
  {
   "cell_type": "code",
   "execution_count": 52,
   "id": "dd0c2c77",
   "metadata": {},
   "outputs": [
    {
     "data": {
      "text/html": [
       "<div>\n",
       "<style scoped>\n",
       "    .dataframe tbody tr th:only-of-type {\n",
       "        vertical-align: middle;\n",
       "    }\n",
       "\n",
       "    .dataframe tbody tr th {\n",
       "        vertical-align: top;\n",
       "    }\n",
       "\n",
       "    .dataframe thead th {\n",
       "        text-align: right;\n",
       "    }\n",
       "</style>\n",
       "<table border=\"1\" class=\"dataframe\">\n",
       "  <thead>\n",
       "    <tr style=\"text-align: right;\">\n",
       "      <th></th>\n",
       "      <th>satu</th>\n",
       "      <th>dua</th>\n",
       "      <th>empat</th>\n",
       "      <th>lima</th>\n",
       "    </tr>\n",
       "  </thead>\n",
       "  <tbody>\n",
       "    <tr>\n",
       "      <th>A</th>\n",
       "      <td>-1.749765</td>\n",
       "      <td>NaN</td>\n",
       "      <td>-0.252436</td>\n",
       "      <td>NaN</td>\n",
       "    </tr>\n",
       "    <tr>\n",
       "      <th>C</th>\n",
       "      <td>-0.458027</td>\n",
       "      <td>NaN</td>\n",
       "      <td>NaN</td>\n",
       "      <td>NaN</td>\n",
       "    </tr>\n",
       "  </tbody>\n",
       "</table>\n",
       "</div>"
      ],
      "text/plain": [
       "       satu  dua     empat  lima\n",
       "A -1.749765  NaN -0.252436   NaN\n",
       "C -0.458027  NaN       NaN   NaN"
      ]
     },
     "execution_count": 52,
     "metadata": {},
     "output_type": "execute_result"
    }
   ],
   "source": [
    "dataku[dataku<0]"
   ]
  },
  {
   "cell_type": "code",
   "execution_count": 53,
   "id": "45b6613b",
   "metadata": {},
   "outputs": [],
   "source": [
    "dataku = pd.DataFrame(np.random.randn(3,5), ['A','B','C'],['satu','dua','tiga','empat','lima'])"
   ]
  },
  {
   "cell_type": "code",
   "execution_count": 54,
   "id": "65a7cade",
   "metadata": {},
   "outputs": [
    {
     "data": {
      "text/html": [
       "<div>\n",
       "<style scoped>\n",
       "    .dataframe tbody tr th:only-of-type {\n",
       "        vertical-align: middle;\n",
       "    }\n",
       "\n",
       "    .dataframe tbody tr th {\n",
       "        vertical-align: top;\n",
       "    }\n",
       "\n",
       "    .dataframe thead th {\n",
       "        text-align: right;\n",
       "    }\n",
       "</style>\n",
       "<table border=\"1\" class=\"dataframe\">\n",
       "  <thead>\n",
       "    <tr style=\"text-align: right;\">\n",
       "      <th></th>\n",
       "      <th>satu</th>\n",
       "      <th>dua</th>\n",
       "      <th>tiga</th>\n",
       "      <th>empat</th>\n",
       "      <th>lima</th>\n",
       "    </tr>\n",
       "  </thead>\n",
       "  <tbody>\n",
       "    <tr>\n",
       "      <th>A</th>\n",
       "      <td>-0.104411</td>\n",
       "      <td>-0.531280</td>\n",
       "      <td>1.029733</td>\n",
       "      <td>-0.438136</td>\n",
       "      <td>-1.118318</td>\n",
       "    </tr>\n",
       "    <tr>\n",
       "      <th>B</th>\n",
       "      <td>1.618982</td>\n",
       "      <td>1.541605</td>\n",
       "      <td>-0.251879</td>\n",
       "      <td>-0.842436</td>\n",
       "      <td>0.184519</td>\n",
       "    </tr>\n",
       "    <tr>\n",
       "      <th>C</th>\n",
       "      <td>0.937082</td>\n",
       "      <td>0.731000</td>\n",
       "      <td>1.361556</td>\n",
       "      <td>-0.326238</td>\n",
       "      <td>0.055676</td>\n",
       "    </tr>\n",
       "  </tbody>\n",
       "</table>\n",
       "</div>"
      ],
      "text/plain": [
       "       satu       dua      tiga     empat      lima\n",
       "A -0.104411 -0.531280  1.029733 -0.438136 -1.118318\n",
       "B  1.618982  1.541605 -0.251879 -0.842436  0.184519\n",
       "C  0.937082  0.731000  1.361556 -0.326238  0.055676"
      ]
     },
     "execution_count": 54,
     "metadata": {},
     "output_type": "execute_result"
    }
   ],
   "source": [
    "dataku"
   ]
  },
  {
   "cell_type": "code",
   "execution_count": 55,
   "id": "4a56af71",
   "metadata": {},
   "outputs": [
    {
     "data": {
      "text/html": [
       "<div>\n",
       "<style scoped>\n",
       "    .dataframe tbody tr th:only-of-type {\n",
       "        vertical-align: middle;\n",
       "    }\n",
       "\n",
       "    .dataframe tbody tr th {\n",
       "        vertical-align: top;\n",
       "    }\n",
       "\n",
       "    .dataframe thead th {\n",
       "        text-align: right;\n",
       "    }\n",
       "</style>\n",
       "<table border=\"1\" class=\"dataframe\">\n",
       "  <thead>\n",
       "    <tr style=\"text-align: right;\">\n",
       "      <th></th>\n",
       "      <th>satu</th>\n",
       "      <th>dua</th>\n",
       "      <th>tiga</th>\n",
       "      <th>empat</th>\n",
       "      <th>lima</th>\n",
       "    </tr>\n",
       "  </thead>\n",
       "  <tbody>\n",
       "    <tr>\n",
       "      <th>A</th>\n",
       "      <td>-0.104411</td>\n",
       "      <td>-0.53128</td>\n",
       "      <td>1.029733</td>\n",
       "      <td>-0.438136</td>\n",
       "      <td>-1.118318</td>\n",
       "    </tr>\n",
       "    <tr>\n",
       "      <th>C</th>\n",
       "      <td>0.937082</td>\n",
       "      <td>0.73100</td>\n",
       "      <td>1.361556</td>\n",
       "      <td>-0.326238</td>\n",
       "      <td>0.055676</td>\n",
       "    </tr>\n",
       "  </tbody>\n",
       "</table>\n",
       "</div>"
      ],
      "text/plain": [
       "       satu      dua      tiga     empat      lima\n",
       "A -0.104411 -0.53128  1.029733 -0.438136 -1.118318\n",
       "C  0.937082  0.73100  1.361556 -0.326238  0.055676"
      ]
     },
     "execution_count": 55,
     "metadata": {},
     "output_type": "execute_result"
    }
   ],
   "source": [
    "dataku[dataku['tiga']>0]"
   ]
  },
  {
   "cell_type": "code",
   "execution_count": 56,
   "id": "2db836ca",
   "metadata": {},
   "outputs": [],
   "source": [
    "hasil = dataku[dataku['lima']>0]"
   ]
  },
  {
   "cell_type": "code",
   "execution_count": 57,
   "id": "7c6035b8",
   "metadata": {},
   "outputs": [
    {
     "data": {
      "text/html": [
       "<div>\n",
       "<style scoped>\n",
       "    .dataframe tbody tr th:only-of-type {\n",
       "        vertical-align: middle;\n",
       "    }\n",
       "\n",
       "    .dataframe tbody tr th {\n",
       "        vertical-align: top;\n",
       "    }\n",
       "\n",
       "    .dataframe thead th {\n",
       "        text-align: right;\n",
       "    }\n",
       "</style>\n",
       "<table border=\"1\" class=\"dataframe\">\n",
       "  <thead>\n",
       "    <tr style=\"text-align: right;\">\n",
       "      <th></th>\n",
       "      <th>satu</th>\n",
       "      <th>dua</th>\n",
       "      <th>tiga</th>\n",
       "      <th>empat</th>\n",
       "      <th>lima</th>\n",
       "    </tr>\n",
       "  </thead>\n",
       "  <tbody>\n",
       "    <tr>\n",
       "      <th>B</th>\n",
       "      <td>1.618982</td>\n",
       "      <td>1.541605</td>\n",
       "      <td>-0.251879</td>\n",
       "      <td>-0.842436</td>\n",
       "      <td>0.184519</td>\n",
       "    </tr>\n",
       "    <tr>\n",
       "      <th>C</th>\n",
       "      <td>0.937082</td>\n",
       "      <td>0.731000</td>\n",
       "      <td>1.361556</td>\n",
       "      <td>-0.326238</td>\n",
       "      <td>0.055676</td>\n",
       "    </tr>\n",
       "  </tbody>\n",
       "</table>\n",
       "</div>"
      ],
      "text/plain": [
       "       satu       dua      tiga     empat      lima\n",
       "B  1.618982  1.541605 -0.251879 -0.842436  0.184519\n",
       "C  0.937082  0.731000  1.361556 -0.326238  0.055676"
      ]
     },
     "execution_count": 57,
     "metadata": {},
     "output_type": "execute_result"
    }
   ],
   "source": [
    "hasil"
   ]
  },
  {
   "cell_type": "code",
   "execution_count": null,
   "id": "067f92fe",
   "metadata": {},
   "outputs": [],
   "source": []
  }
 ],
 "metadata": {
  "kernelspec": {
   "display_name": "Python 3 (ipykernel)",
   "language": "python",
   "name": "python3"
  },
  "language_info": {
   "codemirror_mode": {
    "name": "ipython",
    "version": 3
   },
   "file_extension": ".py",
   "mimetype": "text/x-python",
   "name": "python",
   "nbconvert_exporter": "python",
   "pygments_lexer": "ipython3",
   "version": "3.9.12"
  }
 },
 "nbformat": 4,
 "nbformat_minor": 5
}
